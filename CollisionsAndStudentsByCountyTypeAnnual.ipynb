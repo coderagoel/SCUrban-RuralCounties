{
 "cells": [
  {
   "cell_type": "code",
   "execution_count": 1,
   "id": "2b12f46a-665d-4039-b6f2-7b63f2226c04",
   "metadata": {},
   "outputs": [],
   "source": [
    "import pandas as pd\n",
    "import seaborn as sns\n",
    "import numpy as np\n",
    "import matplotlib.pyplot as plt\n",
    "import sklearn\n",
    "import sklearn.datasets\n",
    "from tqdm import tqdm\n",
    "from geopy.geocoders import Nominatim\n",
    "from time import sleep\n",
    "from geopy.geocoders import OpenCage\n",
    "import geopandas as gpd\n",
    "from shapely.geometry import Point, Polygon\n",
    "import descartes\n",
    "import contextily as ctx\n",
    "from opencage.geocoder import OpenCageGeocode\n",
    "import folium\n",
    "\n",
    "pd.set_option('display.max_rows', 500)\n",
    "pd.set_option('display.max_columns', 500)\n",
    "pd.set_option('display.width', 1000)\n",
    "\n",
    "%matplotlib inline"
   ]
  },
  {
   "cell_type": "code",
   "execution_count": 91,
   "id": "1e8494aa-0871-4a81-8de7-9c2d8a046881",
   "metadata": {},
   "outputs": [
    {
     "name": "stderr",
     "output_type": "stream",
     "text": [
      "/var/folders/v4/yxvm7jqs5q972gt4cxs6_xym0000gn/T/ipykernel_10888/48142574.py:12: DtypeWarning: Columns (5,15,29,41,51) have mixed types. Specify dtype option on import or set low_memory=False.\n",
      "  collisions_2020_df = pd.read_csv(collisions_2020_file_path)\n",
      "/var/folders/v4/yxvm7jqs5q972gt4cxs6_xym0000gn/T/ipykernel_10888/48142574.py:13: DtypeWarning: Columns (5,15,29,41,51) have mixed types. Specify dtype option on import or set low_memory=False.\n",
      "  collisions_2021_df = pd.read_csv(collisions_2021_file_path)\n",
      "/var/folders/v4/yxvm7jqs5q972gt4cxs6_xym0000gn/T/ipykernel_10888/48142574.py:14: DtypeWarning: Columns (5,15,41,51) have mixed types. Specify dtype option on import or set low_memory=False.\n",
      "  collisions_2022_df = pd.read_csv(collisions_2022_file_path)\n"
     ]
    }
   ],
   "source": [
    "collisions_2018_file_path = r'/Users/aarohigoel/Documents/JuneSCIntern/sc_loc2018.csv'\n",
    "collisions_2019_file_path = r'/Users/aarohigoel/Documents/JuneSCIntern/USC College of Education/sc_loc2019.csv'\n",
    "collisions_2020_file_path = r'/Users/aarohigoel/Documents/JuneSCIntern/USC College of Education/sc_loc2020.csv'\n",
    "collisions_2021_file_path = r'/Users/aarohigoel/Documents/JuneSCIntern/USC College of Education/sc_loc2021.csv'\n",
    "collisions_2022_file_path = r'/Users/aarohigoel/Documents/JuneSCIntern/USC College of Education/prelim_sc_loc2022.csv'\n",
    "\n",
    "urban_rural_file_path = r'/Users/aarohigoel/Documents/JuneSCIntern/County_Rural_Lookup.xlsx'\n",
    "alive_25_students_path = r'/Users/aarohigoel/Documents/JuneSCIntern/A25 Data 2018-2023.csv'\n",
    "\n",
    "collisions_2018_df = pd.read_csv(collisions_2018_file_path)\n",
    "collisions_2019_df = pd.read_csv(collisions_2019_file_path)\n",
    "collisions_2020_df = pd.read_csv(collisions_2020_file_path)\n",
    "collisions_2021_df = pd.read_csv(collisions_2021_file_path)\n",
    "collisions_2022_df = pd.read_csv(collisions_2022_file_path)\n",
    "urban_rural_df = pd.read_excel(urban_rural_file_path)\n",
    "alive_25_students_df = pd.read_csv(alive_25_students_path)"
   ]
  },
  {
   "cell_type": "code",
   "execution_count": 65,
   "id": "6e10ac7f-4fa0-4369-8cfa-81acf99611da",
   "metadata": {},
   "outputs": [],
   "source": [
    "def get_pivot(collision_df, county_df, year):\n",
    "    merged_df = pd.merge(collision_df,  \n",
    "                         county_df,  \n",
    "                         on ='cty',  \n",
    "                         how ='left') \n",
    "\n",
    "    pivot_table = pd.pivot_table(merged_df, values='ano', index=None,\n",
    "                       columns=\"Rural/Urban Status\", aggfunc=\"count\").reset_index()\n",
    "    pivot_table.iloc[0,0] = year\n",
    "    return pivot_table"
   ]
  },
  {
   "cell_type": "code",
   "execution_count": 66,
   "id": "bcb61f5c-aa9d-4671-8de9-a50f53c73dac",
   "metadata": {},
   "outputs": [
    {
     "data": {
      "text/html": [
       "<div>\n",
       "<style scoped>\n",
       "    .dataframe tbody tr th:only-of-type {\n",
       "        vertical-align: middle;\n",
       "    }\n",
       "\n",
       "    .dataframe tbody tr th {\n",
       "        vertical-align: top;\n",
       "    }\n",
       "\n",
       "    .dataframe thead th {\n",
       "        text-align: right;\n",
       "    }\n",
       "</style>\n",
       "<table border=\"1\" class=\"dataframe\">\n",
       "  <thead>\n",
       "    <tr style=\"text-align: right;\">\n",
       "      <th>Rural/Urban Status</th>\n",
       "      <th>index</th>\n",
       "      <th>Completely Rural</th>\n",
       "      <th>Mostly rural</th>\n",
       "      <th>Urban</th>\n",
       "    </tr>\n",
       "  </thead>\n",
       "  <tbody>\n",
       "    <tr>\n",
       "      <th>0</th>\n",
       "      <td>2018</td>\n",
       "      <td>706</td>\n",
       "      <td>24254</td>\n",
       "      <td>117446</td>\n",
       "    </tr>\n",
       "  </tbody>\n",
       "</table>\n",
       "</div>"
      ],
      "text/plain": [
       "Rural/Urban Status index  Completely Rural  Mostly rural   Urban\n",
       "0                   2018               706         24254  117446"
      ]
     },
     "execution_count": 66,
     "metadata": {},
     "output_type": "execute_result"
    }
   ],
   "source": [
    "pivot_2018 = get_pivot(collisions_2018_df, county_status_df, '2018')\n",
    "pivot_2018"
   ]
  },
  {
   "cell_type": "code",
   "execution_count": 67,
   "id": "4eda6e5d-75fd-4d8f-aeaf-3c720099a52e",
   "metadata": {},
   "outputs": [
    {
     "data": {
      "text/html": [
       "<div>\n",
       "<style scoped>\n",
       "    .dataframe tbody tr th:only-of-type {\n",
       "        vertical-align: middle;\n",
       "    }\n",
       "\n",
       "    .dataframe tbody tr th {\n",
       "        vertical-align: top;\n",
       "    }\n",
       "\n",
       "    .dataframe thead th {\n",
       "        text-align: right;\n",
       "    }\n",
       "</style>\n",
       "<table border=\"1\" class=\"dataframe\">\n",
       "  <thead>\n",
       "    <tr style=\"text-align: right;\">\n",
       "      <th>Rural/Urban Status</th>\n",
       "      <th>index</th>\n",
       "      <th>Completely Rural</th>\n",
       "      <th>Mostly rural</th>\n",
       "      <th>Urban</th>\n",
       "    </tr>\n",
       "  </thead>\n",
       "  <tbody>\n",
       "    <tr>\n",
       "      <th>0</th>\n",
       "      <td>2019</td>\n",
       "      <td>657</td>\n",
       "      <td>23480</td>\n",
       "      <td>116959</td>\n",
       "    </tr>\n",
       "  </tbody>\n",
       "</table>\n",
       "</div>"
      ],
      "text/plain": [
       "Rural/Urban Status index  Completely Rural  Mostly rural   Urban\n",
       "0                   2019               657         23480  116959"
      ]
     },
     "execution_count": 67,
     "metadata": {},
     "output_type": "execute_result"
    }
   ],
   "source": [
    "pivot_2019 = get_pivot(collisions_2019_df, county_status_df, '2019')\n",
    "pivot_2019"
   ]
  },
  {
   "cell_type": "code",
   "execution_count": 68,
   "id": "28df3b45-878f-4006-bfd2-8d20b51f7281",
   "metadata": {},
   "outputs": [
    {
     "data": {
      "text/html": [
       "<div>\n",
       "<style scoped>\n",
       "    .dataframe tbody tr th:only-of-type {\n",
       "        vertical-align: middle;\n",
       "    }\n",
       "\n",
       "    .dataframe tbody tr th {\n",
       "        vertical-align: top;\n",
       "    }\n",
       "\n",
       "    .dataframe thead th {\n",
       "        text-align: right;\n",
       "    }\n",
       "</style>\n",
       "<table border=\"1\" class=\"dataframe\">\n",
       "  <thead>\n",
       "    <tr style=\"text-align: right;\">\n",
       "      <th>Rural/Urban Status</th>\n",
       "      <th>index</th>\n",
       "      <th>Completely Rural</th>\n",
       "      <th>Mostly rural</th>\n",
       "      <th>Urban</th>\n",
       "    </tr>\n",
       "  </thead>\n",
       "  <tbody>\n",
       "    <tr>\n",
       "      <th>0</th>\n",
       "      <td>2020</td>\n",
       "      <td>514</td>\n",
       "      <td>22233</td>\n",
       "      <td>98488</td>\n",
       "    </tr>\n",
       "  </tbody>\n",
       "</table>\n",
       "</div>"
      ],
      "text/plain": [
       "Rural/Urban Status index  Completely Rural  Mostly rural  Urban\n",
       "0                   2020               514         22233  98488"
      ]
     },
     "execution_count": 68,
     "metadata": {},
     "output_type": "execute_result"
    }
   ],
   "source": [
    "pivot_2020 = get_pivot(collisions_2020_df, county_status_df, '2020')\n",
    "pivot_2020"
   ]
  },
  {
   "cell_type": "code",
   "execution_count": 69,
   "id": "1d462064-1393-4dfa-a67b-6af3f7a8547c",
   "metadata": {},
   "outputs": [
    {
     "data": {
      "text/html": [
       "<div>\n",
       "<style scoped>\n",
       "    .dataframe tbody tr th:only-of-type {\n",
       "        vertical-align: middle;\n",
       "    }\n",
       "\n",
       "    .dataframe tbody tr th {\n",
       "        vertical-align: top;\n",
       "    }\n",
       "\n",
       "    .dataframe thead th {\n",
       "        text-align: right;\n",
       "    }\n",
       "</style>\n",
       "<table border=\"1\" class=\"dataframe\">\n",
       "  <thead>\n",
       "    <tr style=\"text-align: right;\">\n",
       "      <th>Rural/Urban Status</th>\n",
       "      <th>index</th>\n",
       "      <th>Completely Rural</th>\n",
       "      <th>Mostly rural</th>\n",
       "      <th>Urban</th>\n",
       "    </tr>\n",
       "  </thead>\n",
       "  <tbody>\n",
       "    <tr>\n",
       "      <th>0</th>\n",
       "      <td>2021</td>\n",
       "      <td>787</td>\n",
       "      <td>26945</td>\n",
       "      <td>119992</td>\n",
       "    </tr>\n",
       "  </tbody>\n",
       "</table>\n",
       "</div>"
      ],
      "text/plain": [
       "Rural/Urban Status index  Completely Rural  Mostly rural   Urban\n",
       "0                   2021               787         26945  119992"
      ]
     },
     "execution_count": 69,
     "metadata": {},
     "output_type": "execute_result"
    }
   ],
   "source": [
    "pivot_2021 = get_pivot(collisions_2021_df, county_status_df, '2021')\n",
    "pivot_2021"
   ]
  },
  {
   "cell_type": "code",
   "execution_count": 70,
   "id": "a78f18c5-fed0-40b2-89d4-43e6f8062b75",
   "metadata": {},
   "outputs": [
    {
     "data": {
      "text/html": [
       "<div>\n",
       "<style scoped>\n",
       "    .dataframe tbody tr th:only-of-type {\n",
       "        vertical-align: middle;\n",
       "    }\n",
       "\n",
       "    .dataframe tbody tr th {\n",
       "        vertical-align: top;\n",
       "    }\n",
       "\n",
       "    .dataframe thead th {\n",
       "        text-align: right;\n",
       "    }\n",
       "</style>\n",
       "<table border=\"1\" class=\"dataframe\">\n",
       "  <thead>\n",
       "    <tr style=\"text-align: right;\">\n",
       "      <th>Rural/Urban Status</th>\n",
       "      <th>index</th>\n",
       "      <th>Completely Rural</th>\n",
       "      <th>Mostly rural</th>\n",
       "      <th>Urban</th>\n",
       "    </tr>\n",
       "  </thead>\n",
       "  <tbody>\n",
       "    <tr>\n",
       "      <th>0</th>\n",
       "      <td>2022</td>\n",
       "      <td>701</td>\n",
       "      <td>24943</td>\n",
       "      <td>117232</td>\n",
       "    </tr>\n",
       "  </tbody>\n",
       "</table>\n",
       "</div>"
      ],
      "text/plain": [
       "Rural/Urban Status index  Completely Rural  Mostly rural   Urban\n",
       "0                   2022               701         24943  117232"
      ]
     },
     "execution_count": 70,
     "metadata": {},
     "output_type": "execute_result"
    }
   ],
   "source": [
    "pivot_2022 = get_pivot(collisions_2022_df, county_status_df, '2022')\n",
    "pivot_2022"
   ]
  },
  {
   "cell_type": "code",
   "execution_count": 71,
   "id": "1b896d41-ddaa-4baf-a46b-6034fa1cc5a4",
   "metadata": {},
   "outputs": [
    {
     "data": {
      "text/html": [
       "<div>\n",
       "<style scoped>\n",
       "    .dataframe tbody tr th:only-of-type {\n",
       "        vertical-align: middle;\n",
       "    }\n",
       "\n",
       "    .dataframe tbody tr th {\n",
       "        vertical-align: top;\n",
       "    }\n",
       "\n",
       "    .dataframe thead th {\n",
       "        text-align: right;\n",
       "    }\n",
       "</style>\n",
       "<table border=\"1\" class=\"dataframe\">\n",
       "  <thead>\n",
       "    <tr style=\"text-align: right;\">\n",
       "      <th>Rural/Urban Status</th>\n",
       "      <th>index</th>\n",
       "      <th>Completely Rural</th>\n",
       "      <th>Mostly rural</th>\n",
       "      <th>Urban</th>\n",
       "    </tr>\n",
       "  </thead>\n",
       "  <tbody>\n",
       "    <tr>\n",
       "      <th>0</th>\n",
       "      <td>2018</td>\n",
       "      <td>706</td>\n",
       "      <td>24254</td>\n",
       "      <td>117446</td>\n",
       "    </tr>\n",
       "    <tr>\n",
       "      <th>0</th>\n",
       "      <td>2019</td>\n",
       "      <td>657</td>\n",
       "      <td>23480</td>\n",
       "      <td>116959</td>\n",
       "    </tr>\n",
       "    <tr>\n",
       "      <th>0</th>\n",
       "      <td>2020</td>\n",
       "      <td>514</td>\n",
       "      <td>22233</td>\n",
       "      <td>98488</td>\n",
       "    </tr>\n",
       "    <tr>\n",
       "      <th>0</th>\n",
       "      <td>2021</td>\n",
       "      <td>787</td>\n",
       "      <td>26945</td>\n",
       "      <td>119992</td>\n",
       "    </tr>\n",
       "    <tr>\n",
       "      <th>0</th>\n",
       "      <td>2022</td>\n",
       "      <td>701</td>\n",
       "      <td>24943</td>\n",
       "      <td>117232</td>\n",
       "    </tr>\n",
       "  </tbody>\n",
       "</table>\n",
       "</div>"
      ],
      "text/plain": [
       "Rural/Urban Status index  Completely Rural  Mostly rural   Urban\n",
       "0                   2018               706         24254  117446\n",
       "0                   2019               657         23480  116959\n",
       "0                   2020               514         22233   98488\n",
       "0                   2021               787         26945  119992\n",
       "0                   2022               701         24943  117232"
      ]
     },
     "execution_count": 71,
     "metadata": {},
     "output_type": "execute_result"
    }
   ],
   "source": [
    "total_years = [pivot_2018, pivot_2019, pivot_2020, pivot_2021, pivot_2022]\n",
    "table_total_years = pd.concat(total_years)\n",
    "table_total_years"
   ]
  },
  {
   "cell_type": "code",
   "execution_count": 72,
   "id": "3f554e6c-4619-4480-b4ef-89c9eecbce20",
   "metadata": {},
   "outputs": [
    {
     "data": {
      "text/plain": [
       "0    117446\n",
       "0    116959\n",
       "0     98488\n",
       "0    119992\n",
       "0    117232\n",
       "Name: Urban, dtype: int64"
      ]
     },
     "execution_count": 72,
     "metadata": {},
     "output_type": "execute_result"
    }
   ],
   "source": [
    "urbanColumn = table_total_years['Urban']\n",
    "urbanColumn"
   ]
  },
  {
   "cell_type": "code",
   "execution_count": 108,
   "id": "079a1db7-1e2b-497f-b502-a78902a40926",
   "metadata": {},
   "outputs": [
    {
     "data": {
      "image/png": "[encoded data removed]",
      "text/plain": [
       "<Figure size 640x480 with 1 Axes>"
      ]
     },
     "metadata": {},
     "output_type": "display_data"
    }
   ],
   "source": [
    "r = np.arange(table_total_years.shape[0]) \n",
    "width = 0.25\n",
    "\n",
    "plt.bar(r, table_total_years['Urban'], color = 'lightblue', \n",
    "        width = width, \n",
    "        label='Urban')\n",
    "plt.bar(r+width, table_total_years['Mostly rural'], color = 'orange', \n",
    "        width = width,\n",
    "        label='Mostly Rural')\n",
    "plt.bar(r + width*2, table_total_years['Completely Rural'], color = 'green', \n",
    "        width = width, \n",
    "        label='Completely Rural') \n",
    "  \n",
    "plt.xlabel(\"Year\") \n",
    "plt.ylabel(\"Collisions/Number of Students\") \n",
    "plt.title(\"Collisions and Alive at 25 Students per County Type from 2018-2020\") \n",
    "\n",
    "plt.yscale(\"log\")   \n",
    "  \n",
    "# plt.grid(linestyle='--') \n",
    "plt.xticks(r + width/2,['2018','2019','2020','2021','2022']) \n",
    "plt.legend() \n",
    "  \n",
    "plt.show() "
   ]
  },
  {
   "cell_type": "code",
   "execution_count": 92,
   "id": "fe382f76-e179-4d2b-8f45-d69ec32f4554",
   "metadata": {},
   "outputs": [
    {
     "data": {
      "text/html": [
       "<div>\n",
       "<style scoped>\n",
       "    .dataframe tbody tr th:only-of-type {\n",
       "        vertical-align: middle;\n",
       "    }\n",
       "\n",
       "    .dataframe tbody tr th {\n",
       "        vertical-align: top;\n",
       "    }\n",
       "\n",
       "    .dataframe thead th {\n",
       "        text-align: right;\n",
       "    }\n",
       "</style>\n",
       "<table border=\"1\" class=\"dataframe\">\n",
       "  <thead>\n",
       "    <tr style=\"text-align: right;\">\n",
       "      <th></th>\n",
       "      <th>studentID</th>\n",
       "      <th>Year</th>\n",
       "      <th>class_date</th>\n",
       "      <th>city</th>\n",
       "      <th>state</th>\n",
       "      <th>zip_code</th>\n",
       "      <th>County</th>\n",
       "      <th>Rural/Urban Status</th>\n",
       "      <th>school</th>\n",
       "      <th>dob</th>\n",
       "      <th>gender</th>\n",
       "      <th>ethnicity</th>\n",
       "    </tr>\n",
       "  </thead>\n",
       "  <tbody>\n",
       "    <tr>\n",
       "      <th>0</th>\n",
       "      <td>5116</td>\n",
       "      <td>2018</td>\n",
       "      <td>1/6/2018</td>\n",
       "      <td>Lancaster</td>\n",
       "      <td>Sc</td>\n",
       "      <td>29720</td>\n",
       "      <td>Lancaster County</td>\n",
       "      <td>Mostly rural</td>\n",
       "      <td>Andrew Jackson High School</td>\n",
       "      <td>10/5/2001</td>\n",
       "      <td>NaN</td>\n",
       "      <td>NaN</td>\n",
       "    </tr>\n",
       "    <tr>\n",
       "      <th>1</th>\n",
       "      <td>5068</td>\n",
       "      <td>2018</td>\n",
       "      <td>1/6/2018</td>\n",
       "      <td>Irmo</td>\n",
       "      <td>SC</td>\n",
       "      <td>29063</td>\n",
       "      <td>Richland County</td>\n",
       "      <td>Urban</td>\n",
       "      <td>Dutch Fork High School</td>\n",
       "      <td>1/31/2000</td>\n",
       "      <td>NaN</td>\n",
       "      <td>NaN</td>\n",
       "    </tr>\n",
       "    <tr>\n",
       "      <th>2</th>\n",
       "      <td>5108</td>\n",
       "      <td>2018</td>\n",
       "      <td>1/6/2018</td>\n",
       "      <td>Columbia</td>\n",
       "      <td>SC</td>\n",
       "      <td>29210</td>\n",
       "      <td>Richland County</td>\n",
       "      <td>Urban</td>\n",
       "      <td>Irmo High School</td>\n",
       "      <td>3/19/2000</td>\n",
       "      <td>NaN</td>\n",
       "      <td>NaN</td>\n",
       "    </tr>\n",
       "    <tr>\n",
       "      <th>3</th>\n",
       "      <td>3467</td>\n",
       "      <td>2018</td>\n",
       "      <td>1/6/2018</td>\n",
       "      <td>Columbia</td>\n",
       "      <td>SC</td>\n",
       "      <td>29210</td>\n",
       "      <td>Richland County</td>\n",
       "      <td>Urban</td>\n",
       "      <td>Irmo High School</td>\n",
       "      <td>11/16/2000</td>\n",
       "      <td>NaN</td>\n",
       "      <td>NaN</td>\n",
       "    </tr>\n",
       "    <tr>\n",
       "      <th>4</th>\n",
       "      <td>5100</td>\n",
       "      <td>2018</td>\n",
       "      <td>1/6/2018</td>\n",
       "      <td>Lexington</td>\n",
       "      <td>SC</td>\n",
       "      <td>29072</td>\n",
       "      <td>Lexington County</td>\n",
       "      <td>Urban</td>\n",
       "      <td>Lexington High School</td>\n",
       "      <td>3/21/2002</td>\n",
       "      <td>NaN</td>\n",
       "      <td>NaN</td>\n",
       "    </tr>\n",
       "  </tbody>\n",
       "</table>\n",
       "</div>"
      ],
      "text/plain": [
       "   studentID  Year class_date       city state zip_code            County Rural/Urban Status                      school         dob gender ethnicity\n",
       "0       5116  2018   1/6/2018  Lancaster    Sc    29720  Lancaster County       Mostly rural  Andrew Jackson High School   10/5/2001    NaN       NaN\n",
       "1       5068  2018   1/6/2018       Irmo    SC    29063   Richland County              Urban      Dutch Fork High School   1/31/2000    NaN       NaN\n",
       "2       5108  2018   1/6/2018   Columbia    SC    29210   Richland County              Urban            Irmo High School   3/19/2000    NaN       NaN\n",
       "3       3467  2018   1/6/2018   Columbia    SC    29210   Richland County              Urban            Irmo High School  11/16/2000    NaN       NaN\n",
       "4       5100  2018   1/6/2018  Lexington    SC    29072  Lexington County              Urban       Lexington High School   3/21/2002    NaN       NaN"
      ]
     },
     "execution_count": 92,
     "metadata": {},
     "output_type": "execute_result"
    }
   ],
   "source": [
    "alive_25_students_df.head()"
   ]
  },
  {
   "cell_type": "code",
   "execution_count": 193,
   "id": "47861311-596f-419f-aa79-673877e4a1eb",
   "metadata": {},
   "outputs": [
    {
     "data": {
      "text/html": [
       "<div>\n",
       "<style scoped>\n",
       "    .dataframe tbody tr th:only-of-type {\n",
       "        vertical-align: middle;\n",
       "    }\n",
       "\n",
       "    .dataframe tbody tr th {\n",
       "        vertical-align: top;\n",
       "    }\n",
       "\n",
       "    .dataframe thead th {\n",
       "        text-align: right;\n",
       "    }\n",
       "</style>\n",
       "<table border=\"1\" class=\"dataframe\">\n",
       "  <thead>\n",
       "    <tr style=\"text-align: right;\">\n",
       "      <th>Rural/Urban Status</th>\n",
       "      <th>Year</th>\n",
       "      <th>Completely Rural</th>\n",
       "      <th>Mostly rural</th>\n",
       "      <th>Urban</th>\n",
       "    </tr>\n",
       "  </thead>\n",
       "  <tbody>\n",
       "    <tr>\n",
       "      <th>0</th>\n",
       "      <td>1899</td>\n",
       "      <td>NaN</td>\n",
       "      <td>NaN</td>\n",
       "      <td>1.0</td>\n",
       "    </tr>\n",
       "    <tr>\n",
       "      <th>1</th>\n",
       "      <td>2018</td>\n",
       "      <td>19.0</td>\n",
       "      <td>2000.0</td>\n",
       "      <td>10873.0</td>\n",
       "    </tr>\n",
       "    <tr>\n",
       "      <th>2</th>\n",
       "      <td>2019</td>\n",
       "      <td>7.0</td>\n",
       "      <td>2256.0</td>\n",
       "      <td>13009.0</td>\n",
       "    </tr>\n",
       "    <tr>\n",
       "      <th>3</th>\n",
       "      <td>2020</td>\n",
       "      <td>6.0</td>\n",
       "      <td>1268.0</td>\n",
       "      <td>9641.0</td>\n",
       "    </tr>\n",
       "    <tr>\n",
       "      <th>4</th>\n",
       "      <td>2021</td>\n",
       "      <td>11.0</td>\n",
       "      <td>1412.0</td>\n",
       "      <td>11164.0</td>\n",
       "    </tr>\n",
       "    <tr>\n",
       "      <th>5</th>\n",
       "      <td>2022</td>\n",
       "      <td>6.0</td>\n",
       "      <td>1211.0</td>\n",
       "      <td>9816.0</td>\n",
       "    </tr>\n",
       "    <tr>\n",
       "      <th>6</th>\n",
       "      <td>2023</td>\n",
       "      <td>NaN</td>\n",
       "      <td>91.0</td>\n",
       "      <td>808.0</td>\n",
       "    </tr>\n",
       "  </tbody>\n",
       "</table>\n",
       "</div>"
      ],
      "text/plain": [
       "Rural/Urban Status  Year  Completely Rural  Mostly rural    Urban\n",
       "0                   1899               NaN           NaN      1.0\n",
       "1                   2018              19.0        2000.0  10873.0\n",
       "2                   2019               7.0        2256.0  13009.0\n",
       "3                   2020               6.0        1268.0   9641.0\n",
       "4                   2021              11.0        1412.0  11164.0\n",
       "5                   2022               6.0        1211.0   9816.0\n",
       "6                   2023               NaN          91.0    808.0"
      ]
     },
     "execution_count": 193,
     "metadata": {},
     "output_type": "execute_result"
    }
   ],
   "source": [
    "alive25_pivot_table = pd.pivot_table(alive_25_students_df, values='studentID', index='Year',\n",
    "                       columns=\"Rural/Urban Status\", aggfunc=\"count\").reset_index()\n",
    "alive25_pivot_table"
   ]
  },
  {
   "cell_type": "code",
   "execution_count": 194,
   "id": "0161a294-f74b-4548-9235-a981e7e8504c",
   "metadata": {},
   "outputs": [],
   "source": [
    "alive25_pivot_table = alive25_pivot_table.drop(index = 0)"
   ]
  },
  {
   "cell_type": "code",
   "execution_count": 195,
   "id": "d53ae1c0-0a5b-4770-8ab4-c95f03603e09",
   "metadata": {},
   "outputs": [],
   "source": [
    "alive25_pivot_table = alive25_pivot_table.drop(index = 6)"
   ]
  },
  {
   "cell_type": "code",
   "execution_count": 139,
   "id": "99110b15-7885-4f7e-9b83-f27fe50f699a",
   "metadata": {},
   "outputs": [
    {
     "data": {
      "text/html": [
       "<div>\n",
       "<style scoped>\n",
       "    .dataframe tbody tr th:only-of-type {\n",
       "        vertical-align: middle;\n",
       "    }\n",
       "\n",
       "    .dataframe tbody tr th {\n",
       "        vertical-align: top;\n",
       "    }\n",
       "\n",
       "    .dataframe thead th {\n",
       "        text-align: right;\n",
       "    }\n",
       "</style>\n",
       "<table border=\"1\" class=\"dataframe\">\n",
       "  <thead>\n",
       "    <tr style=\"text-align: right;\">\n",
       "      <th>Rural/Urban Status</th>\n",
       "      <th>Year</th>\n",
       "      <th>Completely Rural</th>\n",
       "      <th>Mostly rural</th>\n",
       "      <th>Urban</th>\n",
       "    </tr>\n",
       "  </thead>\n",
       "  <tbody>\n",
       "    <tr>\n",
       "      <th>1</th>\n",
       "      <td>2018</td>\n",
       "      <td>19.0</td>\n",
       "      <td>2000.0</td>\n",
       "      <td>10873.0</td>\n",
       "    </tr>\n",
       "    <tr>\n",
       "      <th>2</th>\n",
       "      <td>2019</td>\n",
       "      <td>7.0</td>\n",
       "      <td>2256.0</td>\n",
       "      <td>13009.0</td>\n",
       "    </tr>\n",
       "    <tr>\n",
       "      <th>3</th>\n",
       "      <td>2020</td>\n",
       "      <td>6.0</td>\n",
       "      <td>1268.0</td>\n",
       "      <td>9641.0</td>\n",
       "    </tr>\n",
       "    <tr>\n",
       "      <th>4</th>\n",
       "      <td>2021</td>\n",
       "      <td>11.0</td>\n",
       "      <td>1412.0</td>\n",
       "      <td>11164.0</td>\n",
       "    </tr>\n",
       "    <tr>\n",
       "      <th>5</th>\n",
       "      <td>2022</td>\n",
       "      <td>6.0</td>\n",
       "      <td>1211.0</td>\n",
       "      <td>9816.0</td>\n",
       "    </tr>\n",
       "  </tbody>\n",
       "</table>\n",
       "</div>"
      ],
      "text/plain": [
       "Rural/Urban Status  Year  Completely Rural  Mostly rural    Urban\n",
       "1                   2018              19.0        2000.0  10873.0\n",
       "2                   2019               7.0        2256.0  13009.0\n",
       "3                   2020               6.0        1268.0   9641.0\n",
       "4                   2021              11.0        1412.0  11164.0\n",
       "5                   2022               6.0        1211.0   9816.0"
      ]
     },
     "execution_count": 139,
     "metadata": {},
     "output_type": "execute_result"
    }
   ],
   "source": [
    "alive25_pivot_table"
   ]
  },
  {
   "cell_type": "code",
   "execution_count": 192,
   "id": "66cf669f-4e95-4322-b626-e01659bfa4ab",
   "metadata": {},
   "outputs": [
    {
     "data": {
      "image/png": "[encoded data removed]",
      "text/plain": [
       "<Figure size 640x480 with 2 Axes>"
      ]
     },
     "metadata": {},
     "output_type": "display_data"
    }
   ],
   "source": [
    "r = np.arange(table_total_years.shape[0]) \n",
    "width = 0.25\n",
    "\n",
    "fig=plt.figure()\n",
    "accidents_plt=fig.add_subplot(111, label=\"1\")\n",
    "accidents_plt.bar(r, table_total_years['Urban'], color = 'lightblue', \n",
    "        width = width, \n",
    "        label='Urban')\n",
    "accidents_plt.bar(r+width, table_total_years['Mostly rural'], color = 'orange', \n",
    "        width = width,\n",
    "        label='Mostly Rural')\n",
    "accidents_plt.bar(r + width*2, table_total_years['Completely Rural'], color = 'seagreen', \n",
    "        width = width, \n",
    "        label='Completely Rural') \n",
    "  \n",
    "accidents_plt.set_xlabel(\"Year\") \n",
    "accidents_plt.set_ylabel(\"Number of Collisions\") \n",
    "accidents_plt.set_title(\"Collisions and Alive at 25 Students per County Type from 2018-2020\") \n",
    "\n",
    "accidents_plt.set_yscale(\"log\")   \n",
    "  \n",
    "# plt.grid(linestyle='--') \n",
    "accidents_plt.set_xticks(r + width/2,['2018','2019','2020','2021','2022']) \n",
    "accidents_plt.legend() \n",
    "\n",
    "\n",
    "\n",
    "# students_plt=fig.add_subplot(111, label=\"2\",frame_on=False)\n",
    "students_plt = accidents_plt.twinx()\n",
    "students_plt.plot(r, alive25_pivot_table['Urban'], color = 'dodgerblue',  \n",
    "        label='Urban')\n",
    "students_plt.plot(r+width, alive25_pivot_table['Mostly rural'], color = 'chocolate', \n",
    "        label='Mostly Rural')\n",
    "students_plt.plot(r + width*2, alive25_pivot_table['Completely Rural'], color = 'darkgreen', \n",
    "        label='Completely Rural') \n",
    "students_plt.set_ylabel(\"Number of Students\") \n",
    "students_plt.set_yscale(\"log\")   \n",
    "  \n",
    "plt.show() "
   ]
  }
 ],
 "metadata": {
  "kernelspec": {
   "display_name": "Python 3 (ipykernel)",
   "language": "python",
   "name": "python3"
  },
  "language_info": {
   "codemirror_mode": {
    "name": "ipython",
    "version": 3
   },
   "file_extension": ".py",
   "mimetype": "text/x-python",
   "name": "python",
   "nbconvert_exporter": "python",
   "pygments_lexer": "ipython3",
   "version": "3.11.7"
  }
 },
 "nbformat": 4,
 "nbformat_minor": 5
}
