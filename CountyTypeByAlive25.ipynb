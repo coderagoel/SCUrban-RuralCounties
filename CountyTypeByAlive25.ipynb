{
 "cells": [
  {
   "cell_type": "code",
   "execution_count": 1,
   "id": "2b12f46a-665d-4039-b6f2-7b63f2226c04",
   "metadata": {},
   "outputs": [],
   "source": [
    "import pandas as pd\n",
    "import seaborn as sns\n",
    "import numpy as np\n",
    "import matplotlib.pyplot as plt\n",
    "import sklearn\n",
    "import sklearn.datasets\n",
    "from tqdm import tqdm\n",
    "from geopy.geocoders import Nominatim\n",
    "from time import sleep\n",
    "from geopy.geocoders import OpenCage\n",
    "import geopandas as gpd\n",
    "from shapely.geometry import Point, Polygon\n",
    "import descartes\n",
    "import contextily as ctx\n",
    "from opencage.geocoder import OpenCageGeocode\n",
    "import folium\n",
    "\n",
    "pd.set_option('display.max_rows', 500)\n",
    "pd.set_option('display.max_columns', 500)\n",
    "pd.set_option('display.width', 1000)\n",
    "\n",
    "%matplotlib inline"
   ]
  },
  {
   "cell_type": "code",
   "execution_count": 64,
   "id": "1e8494aa-0871-4a81-8de7-9c2d8a046881",
   "metadata": {},
   "outputs": [
    {
     "name": "stderr",
     "output_type": "stream",
     "text": [
      "/var/folders/v4/yxvm7jqs5q972gt4cxs6_xym0000gn/T/ipykernel_10888/1245818944.py:12: DtypeWarning: Columns (5,15,29,41,51) have mixed types. Specify dtype option on import or set low_memory=False.\n",
      "  collisions_2020_df = pd.read_csv(collisions_2020_file_path)\n",
      "/var/folders/v4/yxvm7jqs5q972gt4cxs6_xym0000gn/T/ipykernel_10888/1245818944.py:13: DtypeWarning: Columns (5,15,29,41,51) have mixed types. Specify dtype option on import or set low_memory=False.\n",
      "  collisions_2021_df = pd.read_csv(collisions_2021_file_path)\n",
      "/var/folders/v4/yxvm7jqs5q972gt4cxs6_xym0000gn/T/ipykernel_10888/1245818944.py:14: DtypeWarning: Columns (5,15,41,51) have mixed types. Specify dtype option on import or set low_memory=False.\n",
      "  collisions_2022_df = pd.read_csv(collisions_2022_file_path)\n"
     ]
    }
   ],
   "source": [
    "collisions_2018_file_path = r'/Users/aarohigoel/Documents/JuneSCIntern/sc_loc2018.csv'\n",
    "collisions_2019_file_path = r'/Users/aarohigoel/Documents/JuneSCIntern/USC College of Education/sc_loc2019.csv'\n",
    "collisions_2020_file_path = r'/Users/aarohigoel/Documents/JuneSCIntern/USC College of Education/sc_loc2020.csv'\n",
    "collisions_2021_file_path = r'/Users/aarohigoel/Documents/JuneSCIntern/USC College of Education/sc_loc2021.csv'\n",
    "collisions_2022_file_path = r'/Users/aarohigoel/Documents/JuneSCIntern/USC College of Education/prelim_sc_loc2022.csv'\n",
    "\n",
    "urban_rural_file_path = r'/Users/aarohigoel/Documents/JuneSCIntern/County_Rural_Lookup.xlsx'\n",
    "alive_25_students_path = r'/Users/aarohigoel/Documents/JuneSCIntern/A25 Data + County + Urb_Rur.csv'\n",
    "\n",
    "collisions_2018_df = pd.read_csv(collisions_2018_file_path)\n",
    "collisions_2019_df = pd.read_csv(collisions_2019_file_path)\n",
    "collisions_2020_df = pd.read_csv(collisions_2020_file_path)\n",
    "collisions_2021_df = pd.read_csv(collisions_2021_file_path)\n",
    "collisions_2022_df = pd.read_csv(collisions_2022_file_path)\n",
    "urban_rural_df = pd.read_excel(urban_rural_file_path)\n",
    "alive_25_students_df = pd.read_csv(alive_25_students_path)"
   ]
  },
  {
   "cell_type": "code",
   "execution_count": 65,
   "id": "6e10ac7f-4fa0-4369-8cfa-81acf99611da",
   "metadata": {},
   "outputs": [],
   "source": [
    "def get_pivot(collision_df, county_df, year):\n",
    "    merged_df = pd.merge(collision_df,  \n",
    "                         county_df,  \n",
    "                         on ='cty',  \n",
    "                         how ='left') \n",
    "\n",
    "    pivot_table = pd.pivot_table(merged_df, values='ano', index=None,\n",
    "                       columns=\"Rural/Urban Status\", aggfunc=\"count\").reset_index()\n",
    "    pivot_table.iloc[0,0] = year\n",
    "    return pivot_table"
   ]
  },
  {
   "cell_type": "code",
   "execution_count": 66,
   "id": "bcb61f5c-aa9d-4671-8de9-a50f53c73dac",
   "metadata": {},
   "outputs": [
    {
     "data": {
      "text/html": [
       "<div>\n",
       "<style scoped>\n",
       "    .dataframe tbody tr th:only-of-type {\n",
       "        vertical-align: middle;\n",
       "    }\n",
       "\n",
       "    .dataframe tbody tr th {\n",
       "        vertical-align: top;\n",
       "    }\n",
       "\n",
       "    .dataframe thead th {\n",
       "        text-align: right;\n",
       "    }\n",
       "</style>\n",
       "<table border=\"1\" class=\"dataframe\">\n",
       "  <thead>\n",
       "    <tr style=\"text-align: right;\">\n",
       "      <th>Rural/Urban Status</th>\n",
       "      <th>index</th>\n",
       "      <th>Completely Rural</th>\n",
       "      <th>Mostly rural</th>\n",
       "      <th>Urban</th>\n",
       "    </tr>\n",
       "  </thead>\n",
       "  <tbody>\n",
       "    <tr>\n",
       "      <th>0</th>\n",
       "      <td>2018</td>\n",
       "      <td>706</td>\n",
       "      <td>24254</td>\n",
       "      <td>117446</td>\n",
       "    </tr>\n",
       "  </tbody>\n",
       "</table>\n",
       "</div>"
      ],
      "text/plain": [
       "Rural/Urban Status index  Completely Rural  Mostly rural   Urban\n",
       "0                   2018               706         24254  117446"
      ]
     },
     "execution_count": 66,
     "metadata": {},
     "output_type": "execute_result"
    }
   ],
   "source": [
    "pivot_2018 = get_pivot(collisions_2018_df, county_status_df, '2018')\n",
    "pivot_2018"
   ]
  },
  {
   "cell_type": "code",
   "execution_count": 67,
   "id": "4eda6e5d-75fd-4d8f-aeaf-3c720099a52e",
   "metadata": {},
   "outputs": [
    {
     "data": {
      "text/html": [
       "<div>\n",
       "<style scoped>\n",
       "    .dataframe tbody tr th:only-of-type {\n",
       "        vertical-align: middle;\n",
       "    }\n",
       "\n",
       "    .dataframe tbody tr th {\n",
       "        vertical-align: top;\n",
       "    }\n",
       "\n",
       "    .dataframe thead th {\n",
       "        text-align: right;\n",
       "    }\n",
       "</style>\n",
       "<table border=\"1\" class=\"dataframe\">\n",
       "  <thead>\n",
       "    <tr style=\"text-align: right;\">\n",
       "      <th>Rural/Urban Status</th>\n",
       "      <th>index</th>\n",
       "      <th>Completely Rural</th>\n",
       "      <th>Mostly rural</th>\n",
       "      <th>Urban</th>\n",
       "    </tr>\n",
       "  </thead>\n",
       "  <tbody>\n",
       "    <tr>\n",
       "      <th>0</th>\n",
       "      <td>2019</td>\n",
       "      <td>657</td>\n",
       "      <td>23480</td>\n",
       "      <td>116959</td>\n",
       "    </tr>\n",
       "  </tbody>\n",
       "</table>\n",
       "</div>"
      ],
      "text/plain": [
       "Rural/Urban Status index  Completely Rural  Mostly rural   Urban\n",
       "0                   2019               657         23480  116959"
      ]
     },
     "execution_count": 67,
     "metadata": {},
     "output_type": "execute_result"
    }
   ],
   "source": [
    "pivot_2019 = get_pivot(collisions_2019_df, county_status_df, '2019')\n",
    "pivot_2019"
   ]
  },
  {
   "cell_type": "code",
   "execution_count": 68,
   "id": "28df3b45-878f-4006-bfd2-8d20b51f7281",
   "metadata": {},
   "outputs": [
    {
     "data": {
      "text/html": [
       "<div>\n",
       "<style scoped>\n",
       "    .dataframe tbody tr th:only-of-type {\n",
       "        vertical-align: middle;\n",
       "    }\n",
       "\n",
       "    .dataframe tbody tr th {\n",
       "        vertical-align: top;\n",
       "    }\n",
       "\n",
       "    .dataframe thead th {\n",
       "        text-align: right;\n",
       "    }\n",
       "</style>\n",
       "<table border=\"1\" class=\"dataframe\">\n",
       "  <thead>\n",
       "    <tr style=\"text-align: right;\">\n",
       "      <th>Rural/Urban Status</th>\n",
       "      <th>index</th>\n",
       "      <th>Completely Rural</th>\n",
       "      <th>Mostly rural</th>\n",
       "      <th>Urban</th>\n",
       "    </tr>\n",
       "  </thead>\n",
       "  <tbody>\n",
       "    <tr>\n",
       "      <th>0</th>\n",
       "      <td>2020</td>\n",
       "      <td>514</td>\n",
       "      <td>22233</td>\n",
       "      <td>98488</td>\n",
       "    </tr>\n",
       "  </tbody>\n",
       "</table>\n",
       "</div>"
      ],
      "text/plain": [
       "Rural/Urban Status index  Completely Rural  Mostly rural  Urban\n",
       "0                   2020               514         22233  98488"
      ]
     },
     "execution_count": 68,
     "metadata": {},
     "output_type": "execute_result"
    }
   ],
   "source": [
    "pivot_2020 = get_pivot(collisions_2020_df, county_status_df, '2020')\n",
    "pivot_2020"
   ]
  },
  {
   "cell_type": "code",
   "execution_count": 69,
   "id": "1d462064-1393-4dfa-a67b-6af3f7a8547c",
   "metadata": {},
   "outputs": [
    {
     "data": {
      "text/html": [
       "<div>\n",
       "<style scoped>\n",
       "    .dataframe tbody tr th:only-of-type {\n",
       "        vertical-align: middle;\n",
       "    }\n",
       "\n",
       "    .dataframe tbody tr th {\n",
       "        vertical-align: top;\n",
       "    }\n",
       "\n",
       "    .dataframe thead th {\n",
       "        text-align: right;\n",
       "    }\n",
       "</style>\n",
       "<table border=\"1\" class=\"dataframe\">\n",
       "  <thead>\n",
       "    <tr style=\"text-align: right;\">\n",
       "      <th>Rural/Urban Status</th>\n",
       "      <th>index</th>\n",
       "      <th>Completely Rural</th>\n",
       "      <th>Mostly rural</th>\n",
       "      <th>Urban</th>\n",
       "    </tr>\n",
       "  </thead>\n",
       "  <tbody>\n",
       "    <tr>\n",
       "      <th>0</th>\n",
       "      <td>2021</td>\n",
       "      <td>787</td>\n",
       "      <td>26945</td>\n",
       "      <td>119992</td>\n",
       "    </tr>\n",
       "  </tbody>\n",
       "</table>\n",
       "</div>"
      ],
      "text/plain": [
       "Rural/Urban Status index  Completely Rural  Mostly rural   Urban\n",
       "0                   2021               787         26945  119992"
      ]
     },
     "execution_count": 69,
     "metadata": {},
     "output_type": "execute_result"
    }
   ],
   "source": [
    "pivot_2021 = get_pivot(collisions_2021_df, county_status_df, '2021')\n",
    "pivot_2021"
   ]
  },
  {
   "cell_type": "code",
   "execution_count": 70,
   "id": "a78f18c5-fed0-40b2-89d4-43e6f8062b75",
   "metadata": {},
   "outputs": [
    {
     "data": {
      "text/html": [
       "<div>\n",
       "<style scoped>\n",
       "    .dataframe tbody tr th:only-of-type {\n",
       "        vertical-align: middle;\n",
       "    }\n",
       "\n",
       "    .dataframe tbody tr th {\n",
       "        vertical-align: top;\n",
       "    }\n",
       "\n",
       "    .dataframe thead th {\n",
       "        text-align: right;\n",
       "    }\n",
       "</style>\n",
       "<table border=\"1\" class=\"dataframe\">\n",
       "  <thead>\n",
       "    <tr style=\"text-align: right;\">\n",
       "      <th>Rural/Urban Status</th>\n",
       "      <th>index</th>\n",
       "      <th>Completely Rural</th>\n",
       "      <th>Mostly rural</th>\n",
       "      <th>Urban</th>\n",
       "    </tr>\n",
       "  </thead>\n",
       "  <tbody>\n",
       "    <tr>\n",
       "      <th>0</th>\n",
       "      <td>2022</td>\n",
       "      <td>701</td>\n",
       "      <td>24943</td>\n",
       "      <td>117232</td>\n",
       "    </tr>\n",
       "  </tbody>\n",
       "</table>\n",
       "</div>"
      ],
      "text/plain": [
       "Rural/Urban Status index  Completely Rural  Mostly rural   Urban\n",
       "0                   2022               701         24943  117232"
      ]
     },
     "execution_count": 70,
     "metadata": {},
     "output_type": "execute_result"
    }
   ],
   "source": [
    "pivot_2022 = get_pivot(collisions_2022_df, county_status_df, '2022')\n",
    "pivot_2022"
   ]
  },
  {
   "cell_type": "code",
   "execution_count": 71,
   "id": "1b896d41-ddaa-4baf-a46b-6034fa1cc5a4",
   "metadata": {},
   "outputs": [
    {
     "data": {
      "text/html": [
       "<div>\n",
       "<style scoped>\n",
       "    .dataframe tbody tr th:only-of-type {\n",
       "        vertical-align: middle;\n",
       "    }\n",
       "\n",
       "    .dataframe tbody tr th {\n",
       "        vertical-align: top;\n",
       "    }\n",
       "\n",
       "    .dataframe thead th {\n",
       "        text-align: right;\n",
       "    }\n",
       "</style>\n",
       "<table border=\"1\" class=\"dataframe\">\n",
       "  <thead>\n",
       "    <tr style=\"text-align: right;\">\n",
       "      <th>Rural/Urban Status</th>\n",
       "      <th>index</th>\n",
       "      <th>Completely Rural</th>\n",
       "      <th>Mostly rural</th>\n",
       "      <th>Urban</th>\n",
       "    </tr>\n",
       "  </thead>\n",
       "  <tbody>\n",
       "    <tr>\n",
       "      <th>0</th>\n",
       "      <td>2018</td>\n",
       "      <td>706</td>\n",
       "      <td>24254</td>\n",
       "      <td>117446</td>\n",
       "    </tr>\n",
       "    <tr>\n",
       "      <th>0</th>\n",
       "      <td>2019</td>\n",
       "      <td>657</td>\n",
       "      <td>23480</td>\n",
       "      <td>116959</td>\n",
       "    </tr>\n",
       "    <tr>\n",
       "      <th>0</th>\n",
       "      <td>2020</td>\n",
       "      <td>514</td>\n",
       "      <td>22233</td>\n",
       "      <td>98488</td>\n",
       "    </tr>\n",
       "    <tr>\n",
       "      <th>0</th>\n",
       "      <td>2021</td>\n",
       "      <td>787</td>\n",
       "      <td>26945</td>\n",
       "      <td>119992</td>\n",
       "    </tr>\n",
       "    <tr>\n",
       "      <th>0</th>\n",
       "      <td>2022</td>\n",
       "      <td>701</td>\n",
       "      <td>24943</td>\n",
       "      <td>117232</td>\n",
       "    </tr>\n",
       "  </tbody>\n",
       "</table>\n",
       "</div>"
      ],
      "text/plain": [
       "Rural/Urban Status index  Completely Rural  Mostly rural   Urban\n",
       "0                   2018               706         24254  117446\n",
       "0                   2019               657         23480  116959\n",
       "0                   2020               514         22233   98488\n",
       "0                   2021               787         26945  119992\n",
       "0                   2022               701         24943  117232"
      ]
     },
     "execution_count": 71,
     "metadata": {},
     "output_type": "execute_result"
    }
   ],
   "source": [
    "total_years = [pivot_2018, pivot_2019, pivot_2020, pivot_2021, pivot_2022]\n",
    "table_total_years = pd.concat(total_years)\n",
    "table_total_years"
   ]
  },
  {
   "cell_type": "code",
   "execution_count": 72,
   "id": "3f554e6c-4619-4480-b4ef-89c9eecbce20",
   "metadata": {},
   "outputs": [
    {
     "data": {
      "text/plain": [
       "0    117446\n",
       "0    116959\n",
       "0     98488\n",
       "0    119992\n",
       "0    117232\n",
       "Name: Urban, dtype: int64"
      ]
     },
     "execution_count": 72,
     "metadata": {},
     "output_type": "execute_result"
    }
   ],
   "source": [
    "urbanColumn = table_total_years['Urban']\n",
    "urbanColumn"
   ]
  },
  {
   "cell_type": "code",
   "execution_count": 89,
   "id": "079a1db7-1e2b-497f-b502-a78902a40926",
   "metadata": {},
   "outputs": [
    {
     "data": {
      "image/png": "[encoded data removed]",
      "text/plain": [
       "<Figure size 640x480 with 1 Axes>"
      ]
     },
     "metadata": {},
     "output_type": "display_data"
    }
   ],
   "source": [
    "r = np.arange(table_total_years.shape[0]) \n",
    "width = 0.25\n",
    "\n",
    "plt.bar(r, table_total_years['Urban'], color = 'lightblue', \n",
    "        width = width, \n",
    "        label='Urban') \n",
    "plt.bar(r + width, table_total_years['Completely Rural'], color = 'green', \n",
    "        width = width, \n",
    "        label='Completely Rural') \n",
    "plt.bar(r+width*2, table_total_years['Mostly rural'], color = 'orange', \n",
    "        width = width,\n",
    "        label='Mostly Rural') \n",
    "  \n",
    "plt.xlabel(\"Year\") \n",
    "plt.ylabel(\"Collisions/Number of Students\") \n",
    "plt.title(\"Collisions and Alive at 25 Students per County Type from 2018-2020\") \n",
    "\n",
    "plt.yscale(\"log\")   \n",
    "  \n",
    "# plt.grid(linestyle='--') \n",
    "plt.xticks(r + width/2,['2018','2019','2020','2021','2022']) \n",
    "plt.legend() \n",
    "  \n",
    "plt.show() "
   ]
  },
  {
   "cell_type": "code",
   "execution_count": null,
   "id": "9599dc4b-1a6e-41f4-8963-c0e930d61dec",
   "metadata": {},
   "outputs": [],
   "source": []
  }
 ],
 "metadata": {
  "kernelspec": {
   "display_name": "Python 3 (ipykernel)",
   "language": "python",
   "name": "python3"
  },
  "language_info": {
   "codemirror_mode": {
    "name": "ipython",
    "version": 3
   },
   "file_extension": ".py",
   "mimetype": "text/x-python",
   "name": "python",
   "nbconvert_exporter": "python",
   "pygments_lexer": "ipython3",
   "version": "3.11.7"
  }
 },
 "nbformat": 4,
 "nbformat_minor": 5
}
